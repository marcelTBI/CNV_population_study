{
 "cells": [
  {
   "cell_type": "code",
   "execution_count": 1,
   "metadata": {
    "ExecuteTime": {
     "end_time": "2022-05-18T11:35:13.409024Z",
     "start_time": "2022-05-18T11:35:13.401953Z"
    }
   },
   "outputs": [],
   "source": [
    "import pandas as pd\n",
    "import numpy as np\n",
    "import math\n",
    "import sys"
   ]
  },
  {
   "cell_type": "code",
   "execution_count": 2,
   "metadata": {
    "ExecuteTime": {
     "end_time": "2022-05-18T11:35:13.873201Z",
     "start_time": "2022-05-18T11:35:13.805474Z"
    }
   },
   "outputs": [],
   "source": [
    "# load files\n",
    "FILE_svk = 'cnvs_SVK_hg38.tsv'\n",
    "FILE_cz = 'cnvs_CZ_hg38.tsv'\n",
    "FILE_hu = 'cnvs_HU_hg38.tsv'\n",
    "\n",
    "tab_svk_all  = pd.read_csv(FILE_svk, sep = '\\t')\n",
    "tab_cz_all  = pd.read_csv(FILE_cz, sep = '\\t')\n",
    "tab_hu_all  = pd.read_csv(FILE_hu, sep = '\\t')"
   ]
  },
  {
   "cell_type": "code",
   "execution_count": 3,
   "metadata": {
    "ExecuteTime": {
     "end_time": "2022-05-18T11:35:14.207267Z",
     "start_time": "2022-05-18T11:35:14.195865Z"
    }
   },
   "outputs": [],
   "source": [
    "# filter only NEXTSEQ machine\n",
    "tab_svk = tab_svk_all[tab_svk_all.loc[:,'machine']=='NEXTSEQ']\n",
    "tab_cz = tab_cz_all[tab_cz_all.loc[:,'machine']=='NEXTSEQ']\n",
    "tab_hu = tab_hu_all[tab_hu_all.loc[:,'machine']=='NEXTSEQ']"
   ]
  },
  {
   "cell_type": "code",
   "execution_count": 4,
   "metadata": {
    "ExecuteTime": {
     "end_time": "2022-05-18T06:13:18.816418Z",
     "start_time": "2022-05-18T06:13:18.812926Z"
    }
   },
   "outputs": [
    {
     "data": {
      "text/plain": [
       "('SVK: 3585', 'CZ: 622', 'HU: 855')"
      ]
     },
     "execution_count": 4,
     "metadata": {},
     "output_type": "execute_result"
    }
   ],
   "source": [
    "# Nextseq CNV rows\n",
    "'SVK: '+ str(tab_svk.shape[0]), 'CZ: '+ str(tab_cz.shape[0]), 'HU: '+ str(tab_hu.shape[0])"
   ]
  },
  {
   "cell_type": "code",
   "execution_count": 5,
   "metadata": {
    "ExecuteTime": {
     "end_time": "2022-05-18T06:13:18.822927Z",
     "start_time": "2022-05-18T06:13:18.819273Z"
    }
   },
   "outputs": [
    {
     "data": {
      "text/plain": [
       "('SVK: 2900', 'CZ: 510', 'HU: 632')"
      ]
     },
     "execution_count": 5,
     "metadata": {},
     "output_type": "execute_result"
    }
   ],
   "source": [
    "# Nextseq unique samples\n",
    "'SVK: '+ str(len(tab_svk['sampleId'].unique())), 'CZ: '+ str(len(tab_cz['sampleId'].unique())), 'HU: '+ str(len(tab_hu['sampleId'].unique()))"
   ]
  },
  {
   "cell_type": "code",
   "execution_count": 6,
   "metadata": {
    "ExecuteTime": {
     "end_time": "2022-05-18T06:13:18.829483Z",
     "start_time": "2022-05-18T06:13:18.825916Z"
    },
    "scrolled": true
   },
   "outputs": [
    {
     "name": "stdout",
     "output_type": "stream",
     "text": [
      "SVK: \n",
      " count\n",
      "1     2332\n",
      "2      490\n",
      "3       70\n",
      "4        5\n",
      "5        1\n",
      "6        1\n",
      "32       1\n",
      "Name: count, dtype: int64 \n",
      "CZ: \n",
      " count\n",
      "1    409\n",
      "2     91\n",
      "3      9\n",
      "4      1\n",
      "Name: count, dtype: int64 \n",
      "HU: \n",
      " count\n",
      "1     475\n",
      "2     123\n",
      "3      26\n",
      "4       2\n",
      "6       2\n",
      "7       1\n",
      "9       1\n",
      "10      2\n",
      "Name: count, dtype: int64\n"
     ]
    }
   ],
   "source": [
    "# Number of CNV per sample\n",
    "print('SVK: \\n', tab_svk['sampleId'].value_counts().value_counts().sort_index(),'\\n'\n",
    "      'CZ: \\n', tab_cz['sampleId'].value_counts().value_counts().sort_index(), '\\n'\n",
    "      'HU: \\n', tab_hu['sampleId'].value_counts().value_counts().sort_index())"
   ]
  },
  {
   "cell_type": "code",
   "execution_count": 7,
   "metadata": {
    "ExecuteTime": {
     "end_time": "2022-05-18T06:13:18.836084Z",
     "start_time": "2022-05-18T06:13:18.832327Z"
    },
    "scrolled": true
   },
   "outputs": [
    {
     "name": "stdout",
     "output_type": "stream",
     "text": [
      "SVK: \n",
      " chromosome\n",
      "0      49\n",
      "1      71\n",
      "2      71\n",
      "3      56\n",
      "4      58\n",
      "5      43\n",
      "6     101\n",
      "7      49\n",
      "8      60\n",
      "9      48\n",
      "10     21\n",
      "11     42\n",
      "12     32\n",
      "13     21\n",
      "14     38\n",
      "15     18\n",
      "16     44\n",
      "17     22\n",
      "18      4\n",
      "19     21\n",
      "20     10\n",
      "21     23\n",
      "22    105\n",
      "Name: count, dtype: int64 \n",
      "CZ: \n",
      " chromosome\n",
      "0     10\n",
      "1      4\n",
      "2     15\n",
      "3      9\n",
      "4     10\n",
      "5      6\n",
      "6     23\n",
      "7     10\n",
      "8     15\n",
      "9      9\n",
      "10     4\n",
      "11     3\n",
      "12     5\n",
      "13     1\n",
      "14     7\n",
      "15     3\n",
      "16     7\n",
      "17     1\n",
      "19     1\n",
      "21     1\n",
      "22    18\n",
      "Name: count, dtype: int64 \n",
      "HU: \n",
      " chromosome\n",
      "0     15\n",
      "1     19\n",
      "2     20\n",
      "3     19\n",
      "4     11\n",
      "5     13\n",
      "6     30\n",
      "7     15\n",
      "8     14\n",
      "9     10\n",
      "10     5\n",
      "11    14\n",
      "12     9\n",
      "13     4\n",
      "14     7\n",
      "15     4\n",
      "16     8\n",
      "17     1\n",
      "18     1\n",
      "19     5\n",
      "21     4\n",
      "22    16\n",
      "Name: count, dtype: int64\n"
     ]
    }
   ],
   "source": [
    "# Nuber of deletion per chromosome\n",
    "print('SVK: \\n', tab_svk[tab_svk['level']<0]['chromosome'].value_counts().sort_index(), '\\n'\n",
    "      'CZ: \\n', tab_cz[tab_cz['level']<0]['chromosome'].value_counts().sort_index(), '\\n'\n",
    "      'HU: \\n', tab_hu[tab_hu['level']<0]['chromosome'].value_counts().sort_index())"
   ]
  },
  {
   "cell_type": "code",
   "execution_count": 8,
   "metadata": {
    "ExecuteTime": {
     "end_time": "2022-05-18T06:13:18.842784Z",
     "start_time": "2022-05-18T06:13:18.839126Z"
    },
    "scrolled": true
   },
   "outputs": [
    {
     "name": "stdout",
     "output_type": "stream",
     "text": [
      "SVK: \n",
      " chromosome\n",
      "0     143\n",
      "1     134\n",
      "2     123\n",
      "3     101\n",
      "4      88\n",
      "5     300\n",
      "6     147\n",
      "7     194\n",
      "8      72\n",
      "9      65\n",
      "10    146\n",
      "11    120\n",
      "12     47\n",
      "13     62\n",
      "14    143\n",
      "15     56\n",
      "16     51\n",
      "17     28\n",
      "18     44\n",
      "19     34\n",
      "20     14\n",
      "21    172\n",
      "22    294\n",
      "Name: count, dtype: int64 \n",
      "CZ: \n",
      " chromosome\n",
      "0     35\n",
      "1     36\n",
      "2     24\n",
      "3     12\n",
      "4     20\n",
      "5     49\n",
      "6     22\n",
      "7     24\n",
      "8      7\n",
      "9      8\n",
      "10    35\n",
      "11    17\n",
      "12     2\n",
      "13     8\n",
      "14    29\n",
      "15    13\n",
      "16    14\n",
      "17     9\n",
      "18    10\n",
      "19     7\n",
      "20     3\n",
      "21    31\n",
      "22    45\n",
      "Name: count, dtype: int64 \n",
      "HU: \n",
      " chromosome\n",
      "0     42\n",
      "1     28\n",
      "2     26\n",
      "3     23\n",
      "4     28\n",
      "5     66\n",
      "6     35\n",
      "7     51\n",
      "8     12\n",
      "9     16\n",
      "10    45\n",
      "11    42\n",
      "12     2\n",
      "13    10\n",
      "14    22\n",
      "15    14\n",
      "16    12\n",
      "17     8\n",
      "18    17\n",
      "19     9\n",
      "20     2\n",
      "21    25\n",
      "22    76\n",
      "Name: count, dtype: int64\n"
     ]
    }
   ],
   "source": [
    "# Nuber of amplifications per chromosome\n",
    "print('SVK: \\n', tab_svk[tab_svk['level']>0]['chromosome'].value_counts().sort_index(), '\\n'\n",
    "      'CZ: \\n', tab_cz[tab_cz['level']>0]['chromosome'].value_counts().sort_index(), '\\n'\n",
    "      'HU: \\n', tab_hu[tab_hu['level']>0]['chromosome'].value_counts().sort_index())"
   ]
  },
  {
   "cell_type": "code",
   "execution_count": 9,
   "metadata": {
    "ExecuteTime": {
     "end_time": "2022-05-18T11:35:17.209805Z",
     "start_time": "2022-05-18T11:35:17.163415Z"
    },
    "scrolled": true
   },
   "outputs": [],
   "source": [
    "# filter amplifications/deletions\n",
    "sk_amp = tab_svk[tab_svk['level']>0][['chromosome','start_dist','end','length']].groupby(['chromosome','start_dist','end','length']).size().reset_index()\n",
    "cz_amp = tab_cz[tab_cz['level']>0][['chromosome','start_dist','end','length']].groupby(['chromosome','start_dist','end','length']).size().reset_index()\n",
    "hu_amp = tab_hu[tab_hu['level']>0][['chromosome','start_dist','end','length']].groupby(['chromosome','start_dist','end','length']).size().reset_index()\n",
    "\n",
    "sk_del = tab_svk[tab_svk['level']<0][['chromosome','start_dist','end','length']].groupby(['chromosome','start_dist','end','length']).size().reset_index()\n",
    "cz_del = tab_cz[tab_cz['level']<0][['chromosome','start_dist','end','length']].groupby(['chromosome','start_dist','end','length']).size().reset_index()\n",
    "hu_del = tab_hu[tab_hu['level']<0][['chromosome','start_dist','end','length']].groupby(['chromosome','start_dist','end','length']).size().reset_index()"
   ]
  },
  {
   "cell_type": "code",
   "execution_count": 10,
   "metadata": {
    "collapsed": false,
    "jupyter": {
     "outputs_hidden": false
    },
    "pycharm": {
     "name": "#%%\n"
    }
   },
   "outputs": [
    {
     "data": {
      "text/html": [
       "<div>\n",
       "<style scoped>\n",
       "    .dataframe tbody tr th:only-of-type {\n",
       "        vertical-align: middle;\n",
       "    }\n",
       "\n",
       "    .dataframe tbody tr th {\n",
       "        vertical-align: top;\n",
       "    }\n",
       "\n",
       "    .dataframe thead th {\n",
       "        text-align: right;\n",
       "    }\n",
       "</style>\n",
       "<table border=\"1\" class=\"dataframe\">\n",
       "  <thead>\n",
       "    <tr style=\"text-align: right;\">\n",
       "      <th></th>\n",
       "      <th>chromosome</th>\n",
       "      <th>start_dist</th>\n",
       "      <th>end</th>\n",
       "      <th>length</th>\n",
       "      <th>0</th>\n",
       "    </tr>\n",
       "  </thead>\n",
       "  <tbody>\n",
       "    <tr>\n",
       "      <th>0</th>\n",
       "      <td>0</td>\n",
       "      <td>820000</td>\n",
       "      <td>1140000</td>\n",
       "      <td>16</td>\n",
       "      <td>3</td>\n",
       "    </tr>\n",
       "    <tr>\n",
       "      <th>1</th>\n",
       "      <td>0</td>\n",
       "      <td>1160000</td>\n",
       "      <td>2020000</td>\n",
       "      <td>43</td>\n",
       "      <td>1</td>\n",
       "    </tr>\n",
       "    <tr>\n",
       "      <th>2</th>\n",
       "      <td>0</td>\n",
       "      <td>2480000</td>\n",
       "      <td>2900000</td>\n",
       "      <td>21</td>\n",
       "      <td>1</td>\n",
       "    </tr>\n",
       "    <tr>\n",
       "      <th>3</th>\n",
       "      <td>0</td>\n",
       "      <td>2480000</td>\n",
       "      <td>2920000</td>\n",
       "      <td>22</td>\n",
       "      <td>1</td>\n",
       "    </tr>\n",
       "    <tr>\n",
       "      <th>4</th>\n",
       "      <td>0</td>\n",
       "      <td>2500000</td>\n",
       "      <td>2900000</td>\n",
       "      <td>20</td>\n",
       "      <td>1</td>\n",
       "    </tr>\n",
       "    <tr>\n",
       "      <th>...</th>\n",
       "      <td>...</td>\n",
       "      <td>...</td>\n",
       "      <td>...</td>\n",
       "      <td>...</td>\n",
       "      <td>...</td>\n",
       "    </tr>\n",
       "    <tr>\n",
       "      <th>1633</th>\n",
       "      <td>22</td>\n",
       "      <td>152560000</td>\n",
       "      <td>152780000</td>\n",
       "      <td>11</td>\n",
       "      <td>1</td>\n",
       "    </tr>\n",
       "    <tr>\n",
       "      <th>1634</th>\n",
       "      <td>22</td>\n",
       "      <td>152980000</td>\n",
       "      <td>153400000</td>\n",
       "      <td>21</td>\n",
       "      <td>1</td>\n",
       "    </tr>\n",
       "    <tr>\n",
       "      <th>1635</th>\n",
       "      <td>22</td>\n",
       "      <td>153900000</td>\n",
       "      <td>154480000</td>\n",
       "      <td>29</td>\n",
       "      <td>1</td>\n",
       "    </tr>\n",
       "    <tr>\n",
       "      <th>1636</th>\n",
       "      <td>22</td>\n",
       "      <td>154120000</td>\n",
       "      <td>154540000</td>\n",
       "      <td>21</td>\n",
       "      <td>1</td>\n",
       "    </tr>\n",
       "    <tr>\n",
       "      <th>1637</th>\n",
       "      <td>22</td>\n",
       "      <td>154160000</td>\n",
       "      <td>154540000</td>\n",
       "      <td>19</td>\n",
       "      <td>2</td>\n",
       "    </tr>\n",
       "  </tbody>\n",
       "</table>\n",
       "<p>1638 rows × 5 columns</p>\n",
       "</div>"
      ],
      "text/plain": [
       "      chromosome  start_dist        end  length  0\n",
       "0              0      820000    1140000      16  3\n",
       "1              0     1160000    2020000      43  1\n",
       "2              0     2480000    2900000      21  1\n",
       "3              0     2480000    2920000      22  1\n",
       "4              0     2500000    2900000      20  1\n",
       "...          ...         ...        ...     ... ..\n",
       "1633          22   152560000  152780000      11  1\n",
       "1634          22   152980000  153400000      21  1\n",
       "1635          22   153900000  154480000      29  1\n",
       "1636          22   154120000  154540000      21  1\n",
       "1637          22   154160000  154540000      19  2\n",
       "\n",
       "[1638 rows x 5 columns]"
      ]
     },
     "execution_count": 10,
     "metadata": {},
     "output_type": "execute_result"
    }
   ],
   "source": [
    "sk_amp"
   ]
  },
  {
   "cell_type": "code",
   "execution_count": null,
   "metadata": {},
   "outputs": [],
   "source": []
  }
 ],
 "metadata": {
  "kernelspec": {
   "display_name": "Oncological Data ML",
   "language": "python",
   "name": "onco2"
  },
  "language_info": {
   "codemirror_mode": {
    "name": "ipython",
    "version": 3
   },
   "file_extension": ".py",
   "mimetype": "text/x-python",
   "name": "python",
   "nbconvert_exporter": "python",
   "pygments_lexer": "ipython3",
   "version": "3.10.11"
  }
 },
 "nbformat": 4,
 "nbformat_minor": 4
}
